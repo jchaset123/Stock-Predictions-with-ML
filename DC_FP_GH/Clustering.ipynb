{
  "nbformat": 4,
  "nbformat_minor": 0,
  "metadata": {
    "colab": {
      "name": "Clustering.ipynb",
      "provenance": [],
      "collapsed_sections": []
    },
    "kernelspec": {
      "name": "python3",
      "display_name": "Python 3"
    }
  },
  "cells": [
    {
      "cell_type": "code",
      "metadata": {
        "id": "0ahuf3uvITfX",
        "colab_type": "code",
        "colab": {}
      },
      "source": [
        "# install the dependencies\n",
        "import numpy as np\n",
        "import pandas as pd\n",
        "from sklearn.tree import DecisionTreeRegressor\n",
        "from sklearn.linear_model import LinearRegression\n",
        "from sklearn.model_selection import train_test_split\n",
        "import matplotlib.pyplot as plt\n",
        "plt.style.use('bmh')"
      ],
      "execution_count": null,
      "outputs": []
    },
    {
      "cell_type": "code",
      "metadata": {
        "id": "jqwlZibrIeIX",
        "colab_type": "code",
        "colab": {
          "resources": {
            "http://localhost:8080/nbextensions/google.colab/files.js": {
              "data": "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",
              "ok": true,
              "headers": [
                [
                  "content-type",
                  "application/javascript"
                ]
              ],
              "status": 200,
              "status_text": ""
            }
          },
          "base_uri": "https://localhost:8080/",
          "height": 70
        },
        "outputId": "e6b6b994-33ad-4632-c04b-80399cd429b1"
      },
      "source": [
        "#load the data\n",
        "from google.colab import files\n",
        "uploaded = files.upload()"
      ],
      "execution_count": null,
      "outputs": [
        {
          "output_type": "display_data",
          "data": {
            "text/html": [
              "\n",
              "     <input type=\"file\" id=\"files-a585eeca-7ff1-458e-a4c0-d66a862c65f9\" name=\"files[]\" multiple disabled\n",
              "        style=\"border:none\" />\n",
              "     <output id=\"result-a585eeca-7ff1-458e-a4c0-d66a862c65f9\">\n",
              "      Upload widget is only available when the cell has been executed in the\n",
              "      current browser session. Please rerun this cell to enable.\n",
              "      </output>\n",
              "      <script src=\"/nbextensions/google.colab/files.js\"></script> "
            ],
            "text/plain": [
              "<IPython.core.display.HTML object>"
            ]
          },
          "metadata": {
            "tags": []
          }
        },
        {
          "output_type": "stream",
          "text": [
            "Saving ZACKS-FR_quandl.csv to ZACKS-FR_quandl.csv\n"
          ],
          "name": "stdout"
        }
      ]
    },
    {
      "cell_type": "code",
      "metadata": {
        "id": "whXO2JekIopo",
        "colab_type": "code",
        "colab": {
          "base_uri": "https://localhost:8080/",
          "height": 517
        },
        "outputId": "5d9b8b23-bd51-470f-8670-37c05e288682"
      },
      "source": [
        "#store the data into a df\n",
        "quandl_df = pd.read_csv('ZACKS-FR_quandl.csv')\n",
        "quandl_df.head(10)"
      ],
      "execution_count": null,
      "outputs": [
        {
          "output_type": "execute_result",
          "data": {
            "text/html": [
              "<div>\n",
              "<style scoped>\n",
              "    .dataframe tbody tr th:only-of-type {\n",
              "        vertical-align: middle;\n",
              "    }\n",
              "\n",
              "    .dataframe tbody tr th {\n",
              "        vertical-align: top;\n",
              "    }\n",
              "\n",
              "    .dataframe thead th {\n",
              "        text-align: right;\n",
              "    }\n",
              "</style>\n",
              "<table border=\"1\" class=\"dataframe\">\n",
              "  <thead>\n",
              "    <tr style=\"text-align: right;\">\n",
              "      <th></th>\n",
              "      <th>m_ticker</th>\n",
              "      <th>ticker</th>\n",
              "      <th>comp_name</th>\n",
              "      <th>comp_name_2</th>\n",
              "      <th>exchange</th>\n",
              "      <th>currency_code</th>\n",
              "      <th>per_end_date</th>\n",
              "      <th>per_type</th>\n",
              "      <th>per_code</th>\n",
              "      <th>per_fisc_year</th>\n",
              "      <th>per_fisc_qtr</th>\n",
              "      <th>per_cal_year</th>\n",
              "      <th>per_cal_qtr</th>\n",
              "      <th>form_7_type</th>\n",
              "      <th>curr_ratio</th>\n",
              "      <th>non_perform_asset_tot_loan</th>\n",
              "      <th>loan_loss_reserve</th>\n",
              "      <th>lterm_debt_cap</th>\n",
              "      <th>tot_debt_tot_equity</th>\n",
              "      <th>gross_margin</th>\n",
              "      <th>oper_profit_margin</th>\n",
              "      <th>ebit_margin</th>\n",
              "      <th>ebitda_margin</th>\n",
              "      <th>pretax_profit_margin</th>\n",
              "      <th>profit_margin</th>\n",
              "      <th>free_cash_flow</th>\n",
              "      <th>loss_ratio</th>\n",
              "      <th>exp_ratio</th>\n",
              "      <th>comb_ratio</th>\n",
              "      <th>asset_turn</th>\n",
              "      <th>invty_turn</th>\n",
              "      <th>rcv_turn</th>\n",
              "      <th>day_sale_rcv</th>\n",
              "      <th>ret_equity</th>\n",
              "      <th>ret_tang_equity</th>\n",
              "      <th>ret_asset</th>\n",
              "      <th>ret_invst</th>\n",
              "      <th>free_cash_flow_per_share</th>\n",
              "      <th>book_val_per_share</th>\n",
              "      <th>oper_cash_flow_per_share</th>\n",
              "    </tr>\n",
              "  </thead>\n",
              "  <tbody>\n",
              "    <tr>\n",
              "      <th>0</th>\n",
              "      <td>AAPL</td>\n",
              "      <td>AAPL</td>\n",
              "      <td>APPLE INC</td>\n",
              "      <td>Apple Inc.</td>\n",
              "      <td>NSDQ</td>\n",
              "      <td>USD</td>\n",
              "      <td>2018-09-30</td>\n",
              "      <td>A</td>\n",
              "      <td>NaN</td>\n",
              "      <td>2018</td>\n",
              "      <td>4</td>\n",
              "      <td>2018</td>\n",
              "      <td>3</td>\n",
              "      <td>7</td>\n",
              "      <td>1.1329</td>\n",
              "      <td>NaN</td>\n",
              "      <td>NaN</td>\n",
              "      <td>0.4666</td>\n",
              "      <td>1.0685</td>\n",
              "      <td>38.3437</td>\n",
              "      <td>26.6940</td>\n",
              "      <td>26.6940</td>\n",
              "      <td>30.7992</td>\n",
              "      <td>27.4489</td>\n",
              "      <td>22.4142</td>\n",
              "      <td>64121.0</td>\n",
              "      <td>NaN</td>\n",
              "      <td>NaN</td>\n",
              "      <td>NaN</td>\n",
              "      <td>0.7262</td>\n",
              "      <td>41.3943</td>\n",
              "      <td>5.4209</td>\n",
              "      <td>67.3325</td>\n",
              "      <td>55.5601</td>\n",
              "      <td>55.5601</td>\n",
              "      <td>16.2775</td>\n",
              "      <td>29.6348</td>\n",
              "      <td>12.8239</td>\n",
              "      <td>22.5336</td>\n",
              "      <td>15.4865</td>\n",
              "    </tr>\n",
              "    <tr>\n",
              "      <th>1</th>\n",
              "      <td>AAPL</td>\n",
              "      <td>AAPL</td>\n",
              "      <td>APPLE INC</td>\n",
              "      <td>Apple Inc.</td>\n",
              "      <td>NSDQ</td>\n",
              "      <td>USD</td>\n",
              "      <td>2018-03-31</td>\n",
              "      <td>Q</td>\n",
              "      <td>NaN</td>\n",
              "      <td>2018</td>\n",
              "      <td>2</td>\n",
              "      <td>2018</td>\n",
              "      <td>1</td>\n",
              "      <td>7</td>\n",
              "      <td>1.4560</td>\n",
              "      <td>NaN</td>\n",
              "      <td>NaN</td>\n",
              "      <td>0.4441</td>\n",
              "      <td>0.9603</td>\n",
              "      <td>38.3107</td>\n",
              "      <td>25.9974</td>\n",
              "      <td>25.9974</td>\n",
              "      <td>NaN</td>\n",
              "      <td>26.4455</td>\n",
              "      <td>22.6082</td>\n",
              "      <td>36418.0</td>\n",
              "      <td>NaN</td>\n",
              "      <td>NaN</td>\n",
              "      <td>NaN</td>\n",
              "      <td>0.1664</td>\n",
              "      <td>4.9223</td>\n",
              "      <td>2.7284</td>\n",
              "      <td>32.9869</td>\n",
              "      <td>10.8939</td>\n",
              "      <td>10.8939</td>\n",
              "      <td>3.7611</td>\n",
              "      <td>6.0559</td>\n",
              "      <td>7.1852</td>\n",
              "      <td>25.6668</td>\n",
              "      <td>8.5672</td>\n",
              "    </tr>\n",
              "    <tr>\n",
              "      <th>2</th>\n",
              "      <td>AAPL</td>\n",
              "      <td>AAPL</td>\n",
              "      <td>APPLE INC</td>\n",
              "      <td>Apple Inc.</td>\n",
              "      <td>NSDQ</td>\n",
              "      <td>USD</td>\n",
              "      <td>2018-06-30</td>\n",
              "      <td>Q</td>\n",
              "      <td>NaN</td>\n",
              "      <td>2018</td>\n",
              "      <td>3</td>\n",
              "      <td>2018</td>\n",
              "      <td>2</td>\n",
              "      <td>7</td>\n",
              "      <td>1.3073</td>\n",
              "      <td>NaN</td>\n",
              "      <td>NaN</td>\n",
              "      <td>0.4580</td>\n",
              "      <td>0.9970</td>\n",
              "      <td>38.3385</td>\n",
              "      <td>23.6778</td>\n",
              "      <td>23.6778</td>\n",
              "      <td>NaN</td>\n",
              "      <td>24.9395</td>\n",
              "      <td>21.6258</td>\n",
              "      <td>47639.0</td>\n",
              "      <td>NaN</td>\n",
              "      <td>NaN</td>\n",
              "      <td>NaN</td>\n",
              "      <td>0.1525</td>\n",
              "      <td>5.5330</td>\n",
              "      <td>2.0201</td>\n",
              "      <td>44.5514</td>\n",
              "      <td>10.0210</td>\n",
              "      <td>10.0210</td>\n",
              "      <td>3.2987</td>\n",
              "      <td>5.4315</td>\n",
              "      <td>9.6697</td>\n",
              "      <td>23.7355</td>\n",
              "      <td>11.7547</td>\n",
              "    </tr>\n",
              "    <tr>\n",
              "      <th>3</th>\n",
              "      <td>AAPL</td>\n",
              "      <td>AAPL</td>\n",
              "      <td>APPLE INC</td>\n",
              "      <td>Apple Inc.</td>\n",
              "      <td>NSDQ</td>\n",
              "      <td>USD</td>\n",
              "      <td>2018-09-30</td>\n",
              "      <td>Q</td>\n",
              "      <td>NaN</td>\n",
              "      <td>2018</td>\n",
              "      <td>4</td>\n",
              "      <td>2018</td>\n",
              "      <td>3</td>\n",
              "      <td>7</td>\n",
              "      <td>1.1329</td>\n",
              "      <td>NaN</td>\n",
              "      <td>NaN</td>\n",
              "      <td>0.4666</td>\n",
              "      <td>1.0685</td>\n",
              "      <td>38.2894</td>\n",
              "      <td>25.6248</td>\n",
              "      <td>25.6248</td>\n",
              "      <td>NaN</td>\n",
              "      <td>26.1065</td>\n",
              "      <td>22.4563</td>\n",
              "      <td>64121.0</td>\n",
              "      <td>NaN</td>\n",
              "      <td>NaN</td>\n",
              "      <td>NaN</td>\n",
              "      <td>0.1720</td>\n",
              "      <td>9.8119</td>\n",
              "      <td>1.2838</td>\n",
              "      <td>70.1041</td>\n",
              "      <td>13.1828</td>\n",
              "      <td>13.1828</td>\n",
              "      <td>3.8622</td>\n",
              "      <td>7.0315</td>\n",
              "      <td>12.8239</td>\n",
              "      <td>22.5336</td>\n",
              "      <td>15.4865</td>\n",
              "    </tr>\n",
              "    <tr>\n",
              "      <th>4</th>\n",
              "      <td>AAPL</td>\n",
              "      <td>AAPL</td>\n",
              "      <td>APPLE INC</td>\n",
              "      <td>Apple Inc.</td>\n",
              "      <td>NSDQ</td>\n",
              "      <td>USD</td>\n",
              "      <td>2018-12-31</td>\n",
              "      <td>Q</td>\n",
              "      <td>NaN</td>\n",
              "      <td>2019</td>\n",
              "      <td>1</td>\n",
              "      <td>2018</td>\n",
              "      <td>4</td>\n",
              "      <td>7</td>\n",
              "      <td>1.3006</td>\n",
              "      <td>NaN</td>\n",
              "      <td>NaN</td>\n",
              "      <td>0.4410</td>\n",
              "      <td>0.9732</td>\n",
              "      <td>37.9919</td>\n",
              "      <td>27.6907</td>\n",
              "      <td>27.6907</td>\n",
              "      <td>NaN</td>\n",
              "      <td>28.3549</td>\n",
              "      <td>23.6805</td>\n",
              "      <td>23335.0</td>\n",
              "      <td>NaN</td>\n",
              "      <td>NaN</td>\n",
              "      <td>NaN</td>\n",
              "      <td>0.2256</td>\n",
              "      <td>10.4810</td>\n",
              "      <td>2.2798</td>\n",
              "      <td>39.4768</td>\n",
              "      <td>16.9350</td>\n",
              "      <td>16.9350</td>\n",
              "      <td>5.3422</td>\n",
              "      <td>9.4674</td>\n",
              "      <td>4.8887</td>\n",
              "      <td>24.9254</td>\n",
              "      <td>5.5916</td>\n",
              "    </tr>\n",
              "    <tr>\n",
              "      <th>5</th>\n",
              "      <td>AXP</td>\n",
              "      <td>AXP</td>\n",
              "      <td>AMER EXPRESS CO</td>\n",
              "      <td>American Express Company</td>\n",
              "      <td>NYSE</td>\n",
              "      <td>USD</td>\n",
              "      <td>2018-12-31</td>\n",
              "      <td>A</td>\n",
              "      <td>NaN</td>\n",
              "      <td>2018</td>\n",
              "      <td>4</td>\n",
              "      <td>2018</td>\n",
              "      <td>4</td>\n",
              "      <td>7</td>\n",
              "      <td>NaN</td>\n",
              "      <td>NaN</td>\n",
              "      <td>NaN</td>\n",
              "      <td>0.7238</td>\n",
              "      <td>2.7601</td>\n",
              "      <td>NaN</td>\n",
              "      <td>NaN</td>\n",
              "      <td>NaN</td>\n",
              "      <td>NaN</td>\n",
              "      <td>21.9597</td>\n",
              "      <td>18.3502</td>\n",
              "      <td>7620.0</td>\n",
              "      <td>NaN</td>\n",
              "      <td>NaN</td>\n",
              "      <td>NaN</td>\n",
              "      <td>0.1961</td>\n",
              "      <td>NaN</td>\n",
              "      <td>NaN</td>\n",
              "      <td>NaN</td>\n",
              "      <td>31.0498</td>\n",
              "      <td>31.0498</td>\n",
              "      <td>3.6696</td>\n",
              "      <td>8.5748</td>\n",
              "      <td>8.8708</td>\n",
              "      <td>26.3164</td>\n",
              "      <td>10.3958</td>\n",
              "    </tr>\n",
              "    <tr>\n",
              "      <th>6</th>\n",
              "      <td>AXP</td>\n",
              "      <td>AXP</td>\n",
              "      <td>AMER EXPRESS CO</td>\n",
              "      <td>American Express Company</td>\n",
              "      <td>NYSE</td>\n",
              "      <td>USD</td>\n",
              "      <td>2018-03-31</td>\n",
              "      <td>Q</td>\n",
              "      <td>NaN</td>\n",
              "      <td>2018</td>\n",
              "      <td>1</td>\n",
              "      <td>2018</td>\n",
              "      <td>1</td>\n",
              "      <td>7</td>\n",
              "      <td>NaN</td>\n",
              "      <td>NaN</td>\n",
              "      <td>NaN</td>\n",
              "      <td>0.7279</td>\n",
              "      <td>2.8934</td>\n",
              "      <td>NaN</td>\n",
              "      <td>NaN</td>\n",
              "      <td>NaN</td>\n",
              "      <td>NaN</td>\n",
              "      <td>23.2808</td>\n",
              "      <td>17.8911</td>\n",
              "      <td>1826.0</td>\n",
              "      <td>NaN</td>\n",
              "      <td>NaN</td>\n",
              "      <td>NaN</td>\n",
              "      <td>0.0497</td>\n",
              "      <td>NaN</td>\n",
              "      <td>NaN</td>\n",
              "      <td>NaN</td>\n",
              "      <td>8.3312</td>\n",
              "      <td>8.3312</td>\n",
              "      <td>0.9080</td>\n",
              "      <td>2.2671</td>\n",
              "      <td>2.1208</td>\n",
              "      <td>22.8058</td>\n",
              "      <td>2.3961</td>\n",
              "    </tr>\n",
              "    <tr>\n",
              "      <th>7</th>\n",
              "      <td>AXP</td>\n",
              "      <td>AXP</td>\n",
              "      <td>AMER EXPRESS CO</td>\n",
              "      <td>American Express Company</td>\n",
              "      <td>NYSE</td>\n",
              "      <td>USD</td>\n",
              "      <td>2018-06-30</td>\n",
              "      <td>Q</td>\n",
              "      <td>NaN</td>\n",
              "      <td>2018</td>\n",
              "      <td>2</td>\n",
              "      <td>2018</td>\n",
              "      <td>2</td>\n",
              "      <td>7</td>\n",
              "      <td>NaN</td>\n",
              "      <td>NaN</td>\n",
              "      <td>NaN</td>\n",
              "      <td>0.7279</td>\n",
              "      <td>2.8756</td>\n",
              "      <td>NaN</td>\n",
              "      <td>NaN</td>\n",
              "      <td>NaN</td>\n",
              "      <td>NaN</td>\n",
              "      <td>22.7382</td>\n",
              "      <td>17.3010</td>\n",
              "      <td>4560.0</td>\n",
              "      <td>NaN</td>\n",
              "      <td>NaN</td>\n",
              "      <td>NaN</td>\n",
              "      <td>0.0497</td>\n",
              "      <td>NaN</td>\n",
              "      <td>NaN</td>\n",
              "      <td>NaN</td>\n",
              "      <td>7.7685</td>\n",
              "      <td>7.7685</td>\n",
              "      <td>0.8780</td>\n",
              "      <td>2.1140</td>\n",
              "      <td>5.2900</td>\n",
              "      <td>24.2648</td>\n",
              "      <td>5.9118</td>\n",
              "    </tr>\n",
              "    <tr>\n",
              "      <th>8</th>\n",
              "      <td>AXP</td>\n",
              "      <td>AXP</td>\n",
              "      <td>AMER EXPRESS CO</td>\n",
              "      <td>American Express Company</td>\n",
              "      <td>NYSE</td>\n",
              "      <td>USD</td>\n",
              "      <td>2018-09-30</td>\n",
              "      <td>Q</td>\n",
              "      <td>NaN</td>\n",
              "      <td>2018</td>\n",
              "      <td>3</td>\n",
              "      <td>2018</td>\n",
              "      <td>3</td>\n",
              "      <td>7</td>\n",
              "      <td>NaN</td>\n",
              "      <td>NaN</td>\n",
              "      <td>NaN</td>\n",
              "      <td>0.7204</td>\n",
              "      <td>2.7801</td>\n",
              "      <td>NaN</td>\n",
              "      <td>NaN</td>\n",
              "      <td>NaN</td>\n",
              "      <td>NaN</td>\n",
              "      <td>22.7083</td>\n",
              "      <td>17.3797</td>\n",
              "      <td>9311.0</td>\n",
              "      <td>NaN</td>\n",
              "      <td>NaN</td>\n",
              "      <td>NaN</td>\n",
              "      <td>0.0493</td>\n",
              "      <td>NaN</td>\n",
              "      <td>NaN</td>\n",
              "      <td>NaN</td>\n",
              "      <td>7.7074</td>\n",
              "      <td>7.7074</td>\n",
              "      <td>0.8747</td>\n",
              "      <td>2.1548</td>\n",
              "      <td>10.8267</td>\n",
              "      <td>25.1288</td>\n",
              "      <td>11.8395</td>\n",
              "    </tr>\n",
              "    <tr>\n",
              "      <th>9</th>\n",
              "      <td>AXP</td>\n",
              "      <td>AXP</td>\n",
              "      <td>AMER EXPRESS CO</td>\n",
              "      <td>American Express Company</td>\n",
              "      <td>NYSE</td>\n",
              "      <td>USD</td>\n",
              "      <td>2018-12-31</td>\n",
              "      <td>Q</td>\n",
              "      <td>NaN</td>\n",
              "      <td>2018</td>\n",
              "      <td>4</td>\n",
              "      <td>2018</td>\n",
              "      <td>4</td>\n",
              "      <td>7</td>\n",
              "      <td>NaN</td>\n",
              "      <td>NaN</td>\n",
              "      <td>NaN</td>\n",
              "      <td>0.7238</td>\n",
              "      <td>2.7601</td>\n",
              "      <td>NaN</td>\n",
              "      <td>NaN</td>\n",
              "      <td>NaN</td>\n",
              "      <td>NaN</td>\n",
              "      <td>19.2332</td>\n",
              "      <td>20.7458</td>\n",
              "      <td>7620.0</td>\n",
              "      <td>NaN</td>\n",
              "      <td>NaN</td>\n",
              "      <td>NaN</td>\n",
              "      <td>0.0505</td>\n",
              "      <td>NaN</td>\n",
              "      <td>NaN</td>\n",
              "      <td>NaN</td>\n",
              "      <td>9.0175</td>\n",
              "      <td>9.0175</td>\n",
              "      <td>1.0657</td>\n",
              "      <td>2.4903</td>\n",
              "      <td>8.8708</td>\n",
              "      <td>26.3164</td>\n",
              "      <td>10.3958</td>\n",
              "    </tr>\n",
              "  </tbody>\n",
              "</table>\n",
              "</div>"
            ],
            "text/plain": [
              "  m_ticker ticker  ... book_val_per_share oper_cash_flow_per_share\n",
              "0     AAPL   AAPL  ...            22.5336                  15.4865\n",
              "1     AAPL   AAPL  ...            25.6668                   8.5672\n",
              "2     AAPL   AAPL  ...            23.7355                  11.7547\n",
              "3     AAPL   AAPL  ...            22.5336                  15.4865\n",
              "4     AAPL   AAPL  ...            24.9254                   5.5916\n",
              "5      AXP    AXP  ...            26.3164                  10.3958\n",
              "6      AXP    AXP  ...            22.8058                   2.3961\n",
              "7      AXP    AXP  ...            24.2648                   5.9118\n",
              "8      AXP    AXP  ...            25.1288                  11.8395\n",
              "9      AXP    AXP  ...            26.3164                  10.3958\n",
              "\n",
              "[10 rows x 40 columns]"
            ]
          },
          "metadata": {
            "tags": []
          },
          "execution_count": 4
        }
      ]
    },
    {
      "cell_type": "code",
      "metadata": {
        "id": "uXVc0LNcI4Ln",
        "colab_type": "code",
        "colab": {
          "base_uri": "https://localhost:8080/",
          "height": 335
        },
        "outputId": "1bf0ca81-eedd-46e1-96d3-cf83809e1ba5"
      },
      "source": [
        "quandl_reduced_df = quandl_df[[\"ticker\", \"ret_equity\", \"ret_asset\", \"ret_invst\"]]\n",
        "quandl_reduced_df.head(10)"
      ],
      "execution_count": null,
      "outputs": [
        {
          "output_type": "execute_result",
          "data": {
            "text/html": [
              "<div>\n",
              "<style scoped>\n",
              "    .dataframe tbody tr th:only-of-type {\n",
              "        vertical-align: middle;\n",
              "    }\n",
              "\n",
              "    .dataframe tbody tr th {\n",
              "        vertical-align: top;\n",
              "    }\n",
              "\n",
              "    .dataframe thead th {\n",
              "        text-align: right;\n",
              "    }\n",
              "</style>\n",
              "<table border=\"1\" class=\"dataframe\">\n",
              "  <thead>\n",
              "    <tr style=\"text-align: right;\">\n",
              "      <th></th>\n",
              "      <th>ticker</th>\n",
              "      <th>ret_equity</th>\n",
              "      <th>ret_asset</th>\n",
              "      <th>ret_invst</th>\n",
              "    </tr>\n",
              "  </thead>\n",
              "  <tbody>\n",
              "    <tr>\n",
              "      <th>0</th>\n",
              "      <td>AAPL</td>\n",
              "      <td>55.5601</td>\n",
              "      <td>16.2775</td>\n",
              "      <td>29.6348</td>\n",
              "    </tr>\n",
              "    <tr>\n",
              "      <th>1</th>\n",
              "      <td>AAPL</td>\n",
              "      <td>10.8939</td>\n",
              "      <td>3.7611</td>\n",
              "      <td>6.0559</td>\n",
              "    </tr>\n",
              "    <tr>\n",
              "      <th>2</th>\n",
              "      <td>AAPL</td>\n",
              "      <td>10.0210</td>\n",
              "      <td>3.2987</td>\n",
              "      <td>5.4315</td>\n",
              "    </tr>\n",
              "    <tr>\n",
              "      <th>3</th>\n",
              "      <td>AAPL</td>\n",
              "      <td>13.1828</td>\n",
              "      <td>3.8622</td>\n",
              "      <td>7.0315</td>\n",
              "    </tr>\n",
              "    <tr>\n",
              "      <th>4</th>\n",
              "      <td>AAPL</td>\n",
              "      <td>16.9350</td>\n",
              "      <td>5.3422</td>\n",
              "      <td>9.4674</td>\n",
              "    </tr>\n",
              "    <tr>\n",
              "      <th>5</th>\n",
              "      <td>AXP</td>\n",
              "      <td>31.0498</td>\n",
              "      <td>3.6696</td>\n",
              "      <td>8.5748</td>\n",
              "    </tr>\n",
              "    <tr>\n",
              "      <th>6</th>\n",
              "      <td>AXP</td>\n",
              "      <td>8.3312</td>\n",
              "      <td>0.9080</td>\n",
              "      <td>2.2671</td>\n",
              "    </tr>\n",
              "    <tr>\n",
              "      <th>7</th>\n",
              "      <td>AXP</td>\n",
              "      <td>7.7685</td>\n",
              "      <td>0.8780</td>\n",
              "      <td>2.1140</td>\n",
              "    </tr>\n",
              "    <tr>\n",
              "      <th>8</th>\n",
              "      <td>AXP</td>\n",
              "      <td>7.7074</td>\n",
              "      <td>0.8747</td>\n",
              "      <td>2.1548</td>\n",
              "    </tr>\n",
              "    <tr>\n",
              "      <th>9</th>\n",
              "      <td>AXP</td>\n",
              "      <td>9.0175</td>\n",
              "      <td>1.0657</td>\n",
              "      <td>2.4903</td>\n",
              "    </tr>\n",
              "  </tbody>\n",
              "</table>\n",
              "</div>"
            ],
            "text/plain": [
              "  ticker  ret_equity  ret_asset  ret_invst\n",
              "0   AAPL     55.5601    16.2775    29.6348\n",
              "1   AAPL     10.8939     3.7611     6.0559\n",
              "2   AAPL     10.0210     3.2987     5.4315\n",
              "3   AAPL     13.1828     3.8622     7.0315\n",
              "4   AAPL     16.9350     5.3422     9.4674\n",
              "5    AXP     31.0498     3.6696     8.5748\n",
              "6    AXP      8.3312     0.9080     2.2671\n",
              "7    AXP      7.7685     0.8780     2.1140\n",
              "8    AXP      7.7074     0.8747     2.1548\n",
              "9    AXP      9.0175     1.0657     2.4903"
            ]
          },
          "metadata": {
            "tags": []
          },
          "execution_count": 5
        }
      ]
    },
    {
      "cell_type": "code",
      "metadata": {
        "id": "Rb96UdpwJd1Z",
        "colab_type": "code",
        "colab": {
          "base_uri": "https://localhost:8080/",
          "height": 33
        },
        "outputId": "a1d53129-4a70-4888-fb00-683e56fbfccb"
      },
      "source": [
        "quandl_reduced_df.shape"
      ],
      "execution_count": null,
      "outputs": [
        {
          "output_type": "execute_result",
          "data": {
            "text/plain": [
              "(145, 4)"
            ]
          },
          "metadata": {
            "tags": []
          },
          "execution_count": 6
        }
      ]
    },
    {
      "cell_type": "code",
      "metadata": {
        "id": "qXApAyruKCWM",
        "colab_type": "code",
        "colab": {
          "base_uri": "https://localhost:8080/",
          "height": 220
        },
        "outputId": "d7219962-c5c1-4eeb-fd40-f32a2a1c7947"
      },
      "source": [
        "#set index\n",
        "quandl_reduced_df = quandl_reduced_df.set_index('ticker')\n",
        "\n",
        "#convert values to floats\n",
        "quandl_reduced_df = quandl_reduced_df.astype('float')\n",
        "\n",
        "quandl_reduced_df.head()"
      ],
      "execution_count": null,
      "outputs": [
        {
          "output_type": "execute_result",
          "data": {
            "text/html": [
              "<div>\n",
              "<style scoped>\n",
              "    .dataframe tbody tr th:only-of-type {\n",
              "        vertical-align: middle;\n",
              "    }\n",
              "\n",
              "    .dataframe tbody tr th {\n",
              "        vertical-align: top;\n",
              "    }\n",
              "\n",
              "    .dataframe thead th {\n",
              "        text-align: right;\n",
              "    }\n",
              "</style>\n",
              "<table border=\"1\" class=\"dataframe\">\n",
              "  <thead>\n",
              "    <tr style=\"text-align: right;\">\n",
              "      <th></th>\n",
              "      <th>ret_equity</th>\n",
              "      <th>ret_asset</th>\n",
              "      <th>ret_invst</th>\n",
              "    </tr>\n",
              "    <tr>\n",
              "      <th>ticker</th>\n",
              "      <th></th>\n",
              "      <th></th>\n",
              "      <th></th>\n",
              "    </tr>\n",
              "  </thead>\n",
              "  <tbody>\n",
              "    <tr>\n",
              "      <th>AAPL</th>\n",
              "      <td>55.5601</td>\n",
              "      <td>16.2775</td>\n",
              "      <td>29.6348</td>\n",
              "    </tr>\n",
              "    <tr>\n",
              "      <th>AAPL</th>\n",
              "      <td>10.8939</td>\n",
              "      <td>3.7611</td>\n",
              "      <td>6.0559</td>\n",
              "    </tr>\n",
              "    <tr>\n",
              "      <th>AAPL</th>\n",
              "      <td>10.0210</td>\n",
              "      <td>3.2987</td>\n",
              "      <td>5.4315</td>\n",
              "    </tr>\n",
              "    <tr>\n",
              "      <th>AAPL</th>\n",
              "      <td>13.1828</td>\n",
              "      <td>3.8622</td>\n",
              "      <td>7.0315</td>\n",
              "    </tr>\n",
              "    <tr>\n",
              "      <th>AAPL</th>\n",
              "      <td>16.9350</td>\n",
              "      <td>5.3422</td>\n",
              "      <td>9.4674</td>\n",
              "    </tr>\n",
              "  </tbody>\n",
              "</table>\n",
              "</div>"
            ],
            "text/plain": [
              "        ret_equity  ret_asset  ret_invst\n",
              "ticker                                  \n",
              "AAPL       55.5601    16.2775    29.6348\n",
              "AAPL       10.8939     3.7611     6.0559\n",
              "AAPL       10.0210     3.2987     5.4315\n",
              "AAPL       13.1828     3.8622     7.0315\n",
              "AAPL       16.9350     5.3422     9.4674"
            ]
          },
          "metadata": {
            "tags": []
          },
          "execution_count": 7
        }
      ]
    },
    {
      "cell_type": "code",
      "metadata": {
        "id": "OVf-5d6xewd7",
        "colab_type": "code",
        "colab": {
          "base_uri": "https://localhost:8080/",
          "height": 277
        },
        "outputId": "182b953b-fc04-4f1d-bdbb-5344672ede4c"
      },
      "source": [
        "#create a statistical summary table\n",
        "init_descr_df = quandl_reduced_df.describe()\n",
        "\n",
        "init_descr_df"
      ],
      "execution_count": null,
      "outputs": [
        {
          "output_type": "execute_result",
          "data": {
            "text/html": [
              "<div>\n",
              "<style scoped>\n",
              "    .dataframe tbody tr th:only-of-type {\n",
              "        vertical-align: middle;\n",
              "    }\n",
              "\n",
              "    .dataframe tbody tr th {\n",
              "        vertical-align: top;\n",
              "    }\n",
              "\n",
              "    .dataframe thead th {\n",
              "        text-align: right;\n",
              "    }\n",
              "</style>\n",
              "<table border=\"1\" class=\"dataframe\">\n",
              "  <thead>\n",
              "    <tr style=\"text-align: right;\">\n",
              "      <th></th>\n",
              "      <th>ret_equity</th>\n",
              "      <th>ret_asset</th>\n",
              "      <th>ret_invst</th>\n",
              "    </tr>\n",
              "  </thead>\n",
              "  <tbody>\n",
              "    <tr>\n",
              "      <th>count</th>\n",
              "      <td>145.000000</td>\n",
              "      <td>145.000000</td>\n",
              "      <td>145.000000</td>\n",
              "    </tr>\n",
              "    <tr>\n",
              "      <th>mean</th>\n",
              "      <td>37.340117</td>\n",
              "      <td>3.178989</td>\n",
              "      <td>6.442657</td>\n",
              "    </tr>\n",
              "    <tr>\n",
              "      <th>std</th>\n",
              "      <td>229.904512</td>\n",
              "      <td>3.954391</td>\n",
              "      <td>10.312832</td>\n",
              "    </tr>\n",
              "    <tr>\n",
              "      <th>min</th>\n",
              "      <td>-195.450800</td>\n",
              "      <td>-7.383600</td>\n",
              "      <td>-15.883000</td>\n",
              "    </tr>\n",
              "    <tr>\n",
              "      <th>25%</th>\n",
              "      <td>3.126000</td>\n",
              "      <td>1.142800</td>\n",
              "      <td>2.196400</td>\n",
              "    </tr>\n",
              "    <tr>\n",
              "      <th>50%</th>\n",
              "      <td>6.614100</td>\n",
              "      <td>2.206700</td>\n",
              "      <td>4.180400</td>\n",
              "    </tr>\n",
              "    <tr>\n",
              "      <th>75%</th>\n",
              "      <td>11.587900</td>\n",
              "      <td>4.078500</td>\n",
              "      <td>6.945500</td>\n",
              "    </tr>\n",
              "    <tr>\n",
              "      <th>max</th>\n",
              "      <td>2551.219000</td>\n",
              "      <td>19.380600</td>\n",
              "      <td>94.515200</td>\n",
              "    </tr>\n",
              "  </tbody>\n",
              "</table>\n",
              "</div>"
            ],
            "text/plain": [
              "        ret_equity   ret_asset   ret_invst\n",
              "count   145.000000  145.000000  145.000000\n",
              "mean     37.340117    3.178989    6.442657\n",
              "std     229.904512    3.954391   10.312832\n",
              "min    -195.450800   -7.383600  -15.883000\n",
              "25%       3.126000    1.142800    2.196400\n",
              "50%       6.614100    2.206700    4.180400\n",
              "75%      11.587900    4.078500    6.945500\n",
              "max    2551.219000   19.380600   94.515200"
            ]
          },
          "metadata": {
            "tags": []
          },
          "execution_count": 8
        }
      ]
    },
    {
      "cell_type": "code",
      "metadata": {
        "id": "4gFafoBtOEw5",
        "colab_type": "code",
        "colab": {
          "base_uri": "https://localhost:8080/",
          "height": 147
        },
        "outputId": "9dcef7ad-f9a7-432c-e090-d43de3d1104b"
      },
      "source": [
        " #Remove outliers by filtering items differing from industry averages (ROE and ROA above seem off)\n",
        " roe_filter = quandl_reduced_df.iloc[:,0] < 40\n",
        " roa_filter = quandl_reduced_df.iloc[:,1] < 30\n",
        " roi_filter = quandl_reduced_df.iloc[:,2] < 30\n",
        "\n",
        " #get the counts for each column\n",
        " roe_count = pd.Series(roe_filter).value_counts()\n",
        " roa_count = pd.Series(roa_filter).value_counts()\n",
        " roi_count = pd.Series(roi_filter).value_counts()\n",
        "\n",
        " display(roe_count)\n",
        " display(roa_count)\n",
        " display(roi_count)"
      ],
      "execution_count": null,
      "outputs": [
        {
          "output_type": "display_data",
          "data": {
            "text/plain": [
              "True     133\n",
              "False     12\n",
              "Name: ret_equity, dtype: int64"
            ]
          },
          "metadata": {
            "tags": []
          }
        },
        {
          "output_type": "display_data",
          "data": {
            "text/plain": [
              "True    145\n",
              "Name: ret_asset, dtype: int64"
            ]
          },
          "metadata": {
            "tags": []
          }
        },
        {
          "output_type": "display_data",
          "data": {
            "text/plain": [
              "True     142\n",
              "False      3\n",
              "Name: ret_invst, dtype: int64"
            ]
          },
          "metadata": {
            "tags": []
          }
        }
      ]
    },
    {
      "cell_type": "code",
      "metadata": {
        "id": "vQ6BOouhdl_G",
        "colab_type": "code",
        "colab": {
          "base_uri": "https://localhost:8080/",
          "height": 220
        },
        "outputId": "ca95093f-beb7-46ff-9718-07f360442d42"
      },
      "source": [
        "#apply all filters\n",
        "filtered_df = quandl_reduced_df[roe_filter & roa_filter & roi_filter]\n",
        "\n",
        "#get new dataframe shape\n",
        "#filtered_df.shape\n",
        "\n",
        "#display new dataframe\n",
        "filtered_df.head()\n"
      ],
      "execution_count": null,
      "outputs": [
        {
          "output_type": "execute_result",
          "data": {
            "text/html": [
              "<div>\n",
              "<style scoped>\n",
              "    .dataframe tbody tr th:only-of-type {\n",
              "        vertical-align: middle;\n",
              "    }\n",
              "\n",
              "    .dataframe tbody tr th {\n",
              "        vertical-align: top;\n",
              "    }\n",
              "\n",
              "    .dataframe thead th {\n",
              "        text-align: right;\n",
              "    }\n",
              "</style>\n",
              "<table border=\"1\" class=\"dataframe\">\n",
              "  <thead>\n",
              "    <tr style=\"text-align: right;\">\n",
              "      <th></th>\n",
              "      <th>ret_equity</th>\n",
              "      <th>ret_asset</th>\n",
              "      <th>ret_invst</th>\n",
              "    </tr>\n",
              "    <tr>\n",
              "      <th>ticker</th>\n",
              "      <th></th>\n",
              "      <th></th>\n",
              "      <th></th>\n",
              "    </tr>\n",
              "  </thead>\n",
              "  <tbody>\n",
              "    <tr>\n",
              "      <th>AAPL</th>\n",
              "      <td>10.8939</td>\n",
              "      <td>3.7611</td>\n",
              "      <td>6.0559</td>\n",
              "    </tr>\n",
              "    <tr>\n",
              "      <th>AAPL</th>\n",
              "      <td>10.0210</td>\n",
              "      <td>3.2987</td>\n",
              "      <td>5.4315</td>\n",
              "    </tr>\n",
              "    <tr>\n",
              "      <th>AAPL</th>\n",
              "      <td>13.1828</td>\n",
              "      <td>3.8622</td>\n",
              "      <td>7.0315</td>\n",
              "    </tr>\n",
              "    <tr>\n",
              "      <th>AAPL</th>\n",
              "      <td>16.9350</td>\n",
              "      <td>5.3422</td>\n",
              "      <td>9.4674</td>\n",
              "    </tr>\n",
              "    <tr>\n",
              "      <th>AXP</th>\n",
              "      <td>31.0498</td>\n",
              "      <td>3.6696</td>\n",
              "      <td>8.5748</td>\n",
              "    </tr>\n",
              "  </tbody>\n",
              "</table>\n",
              "</div>"
            ],
            "text/plain": [
              "        ret_equity  ret_asset  ret_invst\n",
              "ticker                                  \n",
              "AAPL       10.8939     3.7611     6.0559\n",
              "AAPL       10.0210     3.2987     5.4315\n",
              "AAPL       13.1828     3.8622     7.0315\n",
              "AAPL       16.9350     5.3422     9.4674\n",
              "AXP        31.0498     3.6696     8.5748"
            ]
          },
          "metadata": {
            "tags": []
          },
          "execution_count": 10
        }
      ]
    },
    {
      "cell_type": "code",
      "metadata": {
        "id": "ki3o6Ou9d85N",
        "colab_type": "code",
        "colab": {
          "base_uri": "https://localhost:8080/",
          "height": 277
        },
        "outputId": "d6e85beb-ba91-4d8e-a16a-aa0b37591e05"
      },
      "source": [
        "#create a statistical summary table\n",
        "descr_df = filtered_df.describe()\n",
        "\n",
        "descr_df"
      ],
      "execution_count": null,
      "outputs": [
        {
          "output_type": "execute_result",
          "data": {
            "text/html": [
              "<div>\n",
              "<style scoped>\n",
              "    .dataframe tbody tr th:only-of-type {\n",
              "        vertical-align: middle;\n",
              "    }\n",
              "\n",
              "    .dataframe tbody tr th {\n",
              "        vertical-align: top;\n",
              "    }\n",
              "\n",
              "    .dataframe thead th {\n",
              "        text-align: right;\n",
              "    }\n",
              "</style>\n",
              "<table border=\"1\" class=\"dataframe\">\n",
              "  <thead>\n",
              "    <tr style=\"text-align: right;\">\n",
              "      <th></th>\n",
              "      <th>ret_equity</th>\n",
              "      <th>ret_asset</th>\n",
              "      <th>ret_invst</th>\n",
              "    </tr>\n",
              "  </thead>\n",
              "  <tbody>\n",
              "    <tr>\n",
              "      <th>count</th>\n",
              "      <td>133.000000</td>\n",
              "      <td>133.000000</td>\n",
              "      <td>133.000000</td>\n",
              "    </tr>\n",
              "    <tr>\n",
              "      <th>mean</th>\n",
              "      <td>2.870955</td>\n",
              "      <td>2.696352</td>\n",
              "      <td>4.717523</td>\n",
              "    </tr>\n",
              "    <tr>\n",
              "      <th>std</th>\n",
              "      <td>26.683169</td>\n",
              "      <td>3.426107</td>\n",
              "      <td>5.852097</td>\n",
              "    </tr>\n",
              "    <tr>\n",
              "      <th>min</th>\n",
              "      <td>-195.450800</td>\n",
              "      <td>-7.383600</td>\n",
              "      <td>-15.883000</td>\n",
              "    </tr>\n",
              "    <tr>\n",
              "      <th>25%</th>\n",
              "      <td>2.911400</td>\n",
              "      <td>1.065700</td>\n",
              "      <td>2.108100</td>\n",
              "    </tr>\n",
              "    <tr>\n",
              "      <th>50%</th>\n",
              "      <td>6.138700</td>\n",
              "      <td>2.136800</td>\n",
              "      <td>3.892700</td>\n",
              "    </tr>\n",
              "    <tr>\n",
              "      <th>75%</th>\n",
              "      <td>10.726800</td>\n",
              "      <td>3.735100</td>\n",
              "      <td>5.868600</td>\n",
              "    </tr>\n",
              "    <tr>\n",
              "      <th>max</th>\n",
              "      <td>36.098300</td>\n",
              "      <td>18.055700</td>\n",
              "      <td>25.468900</td>\n",
              "    </tr>\n",
              "  </tbody>\n",
              "</table>\n",
              "</div>"
            ],
            "text/plain": [
              "       ret_equity   ret_asset   ret_invst\n",
              "count  133.000000  133.000000  133.000000\n",
              "mean     2.870955    2.696352    4.717523\n",
              "std     26.683169    3.426107    5.852097\n",
              "min   -195.450800   -7.383600  -15.883000\n",
              "25%      2.911400    1.065700    2.108100\n",
              "50%      6.138700    2.136800    3.892700\n",
              "75%     10.726800    3.735100    5.868600\n",
              "max     36.098300   18.055700   25.468900"
            ]
          },
          "metadata": {
            "tags": []
          },
          "execution_count": 11
        }
      ]
    },
    {
      "cell_type": "code",
      "metadata": {
        "id": "VR4O9d9FgHTa",
        "colab_type": "code",
        "colab": {
          "base_uri": "https://localhost:8080/",
          "height": 318
        },
        "outputId": "9d60c2a6-d3f4-4bb5-baf6-efc280bf0ac4"
      },
      "source": [
        "#Plot the data\n",
        "%matplotlib inline\n",
        "import matplotlib.pyplot as plt\n",
        "from mpl_toolkits.mplot3d import Axes3D\n",
        "\n",
        "#define the figure\n",
        "fig = plt.figure()\n",
        "ax = Axes3D(fig)\n",
        "\n",
        "#define x,y,z axes\n",
        "x = list(filtered_df.iloc[:,0])\n",
        "y = list(filtered_df.iloc[:,1])\n",
        "z = list(filtered_df.iloc[:,2])\n",
        "\n",
        "#define the axis labels\n",
        "column_names = filtered_df.columns\n",
        "ax.set_xlabel(column_names[0])\n",
        "ax.set_ylabel(column_names[1])\n",
        "ax.set_zlabel(column_names[2])\n",
        "\n",
        "#define the markers and the color\n",
        "ax.scatter(x,y,z, c='blue', marker = 'o')\n",
        "\n",
        "plt.show()"
      ],
      "execution_count": null,
      "outputs": [
        {
          "output_type": "display_data",
          "data": {
            "image/png": "[encoded data removed]",
            "text/plain": [
              "<Figure size 432x288 with 1 Axes>"
            ]
          },
          "metadata": {
            "tags": [],
            "needs_background": "light"
          }
        }
      ]
    },
    {
      "cell_type": "code",
      "metadata": {
        "id": "HZ5qOtwTjUrH",
        "colab_type": "code",
        "colab": {
          "base_uri": "https://localhost:8080/",
          "height": 318
        },
        "outputId": "edd38c09-7ff9-4f6a-d886-1811123abe2a"
      },
      "source": [
        "#scale the data using sklearn Robust Scaler since may still be outliers\n",
        "from sklearn.preprocessing import RobustScaler\n",
        "\n",
        "#define scaler mechanism\n",
        "robust_scaler = RobustScaler()\n",
        "\n",
        "#scale the data\n",
        "X_train_robust = robust_scaler.fit_transform(filtered_df)\n",
        "\n",
        "#define the new figure\n",
        "fig = plt.figure()\n",
        "ax = Axes3D(fig)\n",
        "\n",
        "#define x,y,z axes\n",
        "x = X_train_robust[:,0]\n",
        "y = X_train_robust[:,1]\n",
        "z = X_train_robust[:,2]\n",
        "\n",
        "#define the axis labels\n",
        "column_names = filtered_df.columns\n",
        "ax.set_xlabel(column_names[0])\n",
        "ax.set_ylabel(column_names[1])\n",
        "ax.set_zlabel(column_names[2])\n",
        "\n",
        "#define the markers and the color\n",
        "ax.scatter(x,y,z, c='green', marker = 'o')\n",
        "\n",
        "plt.show()"
      ],
      "execution_count": null,
      "outputs": [
        {
          "output_type": "display_data",
          "data": {
            "image/png": "[encoded data removed]",
            "text/plain": [
              "<Figure size 432x288 with 1 Axes>"
            ]
          },
          "metadata": {
            "tags": [],
            "needs_background": "light"
          }
        }
      ]
    },
    {
      "cell_type": "code",
      "metadata": {
        "id": "GqSPnoGOmnnP",
        "colab_type": "code",
        "colab": {
          "base_uri": "https://localhost:8080/",
          "height": 407
        },
        "outputId": "db620981-d43a-4901-a948-f380295c1300"
      },
      "source": [
        "#Silhouette Analysis to determine how many clusters to choose\n",
        "\n",
        "from sklearn.cluster import KMeans\n",
        "from sklearn import metrics\n",
        "\n",
        "#create a dictionary to store our scores\n",
        "results_dict = {}\n",
        "\n",
        "#define the number of iterations we want to do\n",
        "num_of_clusters = 10\n",
        "\n",
        "#run through each k\n",
        "for k in range(2, num_of_clusters):\n",
        "\n",
        "  print('_'*100)\n",
        "\n",
        "  #define the key for this iteration\n",
        "  results_dict[k] = {}\n",
        "\n",
        "  #create an instance of the kmeans model\n",
        "  kmeans = KMeans(n_clusters = k, random_state = 0).fit(X_train_robust)\n",
        "\n",
        "  #define the silhouette score\n",
        "  sil_score = metrics.silhouette_score(X_train_robust, kmeans.labels_, metric = 'euclidean')\n",
        "\n",
        "  #store the different metrics\n",
        "  results_dict[k]['silhouette_score'] = sil_score\n",
        "  results_dict[k]['inertia'] = kmeans.inertia_\n",
        "  results_dict[k]['score'] = kmeans.score\n",
        "  results_dict[k]['model'] = kmeans \n",
        "\n",
        "  #Print out the results\n",
        "  print(\"The number of clusters: {}\".format(k))\n",
        "  print(\"Silhouette score: {}\".format(sil_score))\n"
      ],
      "execution_count": null,
      "outputs": [
        {
          "output_type": "stream",
          "text": [
            "____________________________________________________________________________________________________\n",
            "The number of clusters: 2\n",
            "Silhouette score: 0.8790777956420563\n",
            "____________________________________________________________________________________________________\n",
            "The number of clusters: 3\n",
            "Silhouette score: 0.5795437528472792\n",
            "____________________________________________________________________________________________________\n",
            "The number of clusters: 4\n",
            "Silhouette score: 0.6418399044647236\n",
            "____________________________________________________________________________________________________\n",
            "The number of clusters: 5\n",
            "Silhouette score: 0.6404567827105097\n",
            "____________________________________________________________________________________________________\n",
            "The number of clusters: 6\n",
            "Silhouette score: 0.6521211591749732\n",
            "____________________________________________________________________________________________________\n",
            "The number of clusters: 7\n",
            "Silhouette score: 0.46109723011311976\n",
            "____________________________________________________________________________________________________\n",
            "The number of clusters: 8\n",
            "Silhouette score: 0.47542889983302794\n",
            "____________________________________________________________________________________________________\n",
            "The number of clusters: 9\n",
            "Silhouette score: 0.47200089206096657\n"
          ],
          "name": "stdout"
        }
      ]
    },
    {
      "cell_type": "code",
      "metadata": {
        "id": "SOUnvXwwswiT",
        "colab_type": "code",
        "colab": {}
      },
      "source": [
        "#interpretation - the larger the Silhouette score, the better the results. 2, 4, and 6 have highest number\n"
      ],
      "execution_count": null,
      "outputs": []
    },
    {
      "cell_type": "code",
      "metadata": {
        "id": "cDR2zjq-uhRt",
        "colab_type": "code",
        "colab": {
          "base_uri": "https://localhost:8080/",
          "height": 1000
        },
        "outputId": "9d5d99e0-87b9-470e-ae7a-91e30dc6343e"
      },
      "source": [
        "from yellowbrick.cluster import SilhouetteVisualizer\n",
        "\n",
        "clusters = [2,4,6]\n",
        "\n",
        "for cluster in clusters:\n",
        "\n",
        "  #create an instance of the kmeans model\n",
        "  kmeans = KMeans(n_clusters = cluster, random_state = 0)\n",
        "\n",
        "  #pass the model thru the visualizer\n",
        "  visualizer = SilhouetteVisualizer(kmeans)\n",
        "\n",
        "  #fit the data\n",
        "  visualizer.fit(X_train_robust)\n",
        "\n",
        "  #show the chart\n",
        "  visualizer.poof()"
      ],
      "execution_count": null,
      "outputs": [
        {
          "output_type": "stream",
          "text": [
            "/usr/local/lib/python3.6/dist-packages/sklearn/utils/deprecation.py:144: FutureWarning: The sklearn.metrics.classification module is  deprecated in version 0.22 and will be removed in version 0.24. The corresponding classes / functions should instead be imported from sklearn.metrics. Anything that cannot be imported from sklearn.metrics is now part of the private API.\n",
            "  warnings.warn(message, FutureWarning)\n"
          ],
          "name": "stderr"
        },
        {
          "output_type": "display_data",
          "data": {
            "image/png": "[encoded data removed]",
            "text/plain": [
              "<Figure size 576x396 with 1 Axes>"
            ]
          },
          "metadata": {
            "tags": []
          }
        },
        {
          "output_type": "display_data",
          "data": {
            "image/png": "[encoded data removed]",
            "text/plain": [
              "<Figure size 576x396 with 1 Axes>"
            ]
          },
          "metadata": {
            "tags": []
          }
        },
        {
          "output_type": "display_data",
          "data": {
            "image/png": "[encoded data removed]",
            "text/plain": [
              "<Figure size 576x396 with 1 Axes>"
            ]
          },
          "metadata": {
            "tags": []
          }
        }
      ]
    },
    {
      "cell_type": "code",
      "metadata": {
        "id": "brzAPap7wBXz",
        "colab_type": "code",
        "colab": {}
      },
      "source": [
        "#interpretation - 4 clusters seems to have the most equitable breakdown of component data, with all clusters approaching the red line/average"
      ],
      "execution_count": null,
      "outputs": []
    },
    {
      "cell_type": "code",
      "metadata": {
        "id": "cETFxGVQxSO1",
        "colab_type": "code",
        "colab": {
          "base_uri": "https://localhost:8080/",
          "height": 528
        },
        "outputId": "767625c6-e446-4ef9-a1f6-3d8d3a4e83e7"
      },
      "source": [
        "#Plot the data with clusters\n",
        "clusters = [4]\n",
        "\n",
        "for cluster in clusters:\n",
        "\n",
        "  print('_'*100)\n",
        "\n",
        "  #create an instance of the kmeans model\n",
        "  kmeans = KMeans(n_clusters = cluster, random_state = 0).fit(X_train_robust)\n",
        "\n",
        "  #define our clusters\n",
        "  cluster_centers = kmeans.cluster_centers_\n",
        "  C1 = cluster_centers[:,0]\n",
        "  C2 = cluster_centers[:,1]\n",
        "  C3 = cluster_centers[:,1]\n",
        "  C4 = cluster_centers[:,2]\n",
        "  \n",
        "\n",
        "  #define the new figure\n",
        "  fig = plt.figure()\n",
        "  ax = Axes3D(fig)\n",
        "\n",
        "  #define x,y,z axes\n",
        "  x = X_train_robust[:,0]\n",
        "  y = X_train_robust[:,1]\n",
        "  z = X_train_robust[:,2]\n",
        "\n",
        "  #define the axis labels\n",
        "  column_names = filtered_df.columns\n",
        "  ax.set_xlabel(column_names[0])\n",
        "  ax.set_ylabel(column_names[1])\n",
        "  ax.set_zlabel(column_names[2])\n",
        "\n",
        "  #define the markers and the color\n",
        "  ax.scatter(x,y,z, c=kmeans.labels_.astype(float), cmap = 'winter', marker = 'o')\n",
        "  ax.scatter(C1, C2, C3, C4, marker = 'x', color = 'r')\n",
        "\n",
        "  #define the title\n",
        "  plt.title(\"Visualization of Clustered Data with {} clusters\".format(cluster), fontweight='bold')\n",
        "\n",
        "  plt.show()\n"
      ],
      "execution_count": null,
      "outputs": [
        {
          "output_type": "stream",
          "text": [
            "____________________________________________________________________________________________________\n"
          ],
          "name": "stdout"
        },
        {
          "output_type": "stream",
          "text": [
            "/usr/local/lib/python3.6/dist-packages/mpl_toolkits/mplot3d/art3d.py:794: FutureWarning: elementwise comparison failed; returning scalar instead, but in the future will perform elementwise comparison\n",
            "  if zdir == 'x':\n",
            "/usr/local/lib/python3.6/dist-packages/mpl_toolkits/mplot3d/art3d.py:796: FutureWarning: elementwise comparison failed; returning scalar instead, but in the future will perform elementwise comparison\n",
            "  elif zdir == 'y':\n"
          ],
          "name": "stderr"
        },
        {
          "output_type": "display_data",
          "data": {
            "image/png": "[encoded data removed]",
            "text/plain": [
              "<Figure size 576x396 with 1 Axes>"
            ]
          },
          "metadata": {
            "tags": []
          }
        }
      ]
    },
    {
      "cell_type": "code",
      "metadata": {
        "id": "PclFyE6uw0Bf",
        "colab_type": "code",
        "colab": {
          "base_uri": "https://localhost:8080/",
          "height": 33
        },
        "outputId": "10e25726-4c82-4ce9-9a69-a3269d897489"
      },
      "source": [
        "#MAKE PREDICTIONS\n",
        "\n",
        "#reference your model\n",
        "kmeans = results_dict[4]['model']\n",
        "\n",
        "#define some test data (Two companies with [Ret_Equity, Ret_Asset, Ret_Invst] figures given)\n",
        "test_data = [[-8.50, 6.33, -3.00],\n",
        "             [3.62, 2.75, 5.61]]\n",
        "\n",
        "#make prediction\n",
        "kmeans.predict(test_data)"
      ],
      "execution_count": null,
      "outputs": [
        {
          "output_type": "execute_result",
          "data": {
            "text/plain": [
              "array([2, 3], dtype=int32)"
            ]
          },
          "metadata": {
            "tags": []
          },
          "execution_count": 18
        }
      ]
    },
    {
      "cell_type": "code",
      "metadata": {
        "id": "8gY_I8IZFH1j",
        "colab_type": "code",
        "colab": {}
      },
      "source": [
        "#Model predicts that our negative test data falls in cluster 2 (performing less well), and the positive test data falls in cluster 3 - which is on the better-performing side of the plot.  "
      ],
      "execution_count": null,
      "outputs": []
    },
    {
      "cell_type": "code",
      "metadata": {
        "id": "sReqt-rNJcPa",
        "colab_type": "code",
        "colab": {}
      },
      "source": [
        "#CONCLUSIONS:  Clustering can be useful, but the more data you have the more likely you are to see patterns"
      ],
      "execution_count": null,
      "outputs": []
    },
    {
      "cell_type": "code",
      "metadata": {
        "id": "IuNOylcRmMvJ",
        "colab_type": "code",
        "colab": {}
      },
      "source": [
        ""
      ],
      "execution_count": null,
      "outputs": []
    }
  ]
}