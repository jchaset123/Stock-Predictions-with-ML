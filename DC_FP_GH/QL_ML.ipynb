{
  "nbformat": 4,
  "nbformat_minor": 0,
  "metadata": {
    "colab": {
      "name": "QL_ML.ipynb",
      "provenance": [],
      "collapsed_sections": []
    },
    "kernelspec": {
      "name": "python3",
      "display_name": "Python 3"
    }
  },
  "cells": [
    {
      "cell_type": "code",
      "metadata": {
        "id": "h3pUYfyPAHS9",
        "colab_type": "code",
        "colab": {}
      },
      "source": [
        "# STOCK PREDICTION Program! This program predicts stock programs with ML Models! NEAT!"
      ],
      "execution_count": null,
      "outputs": []
    },
    {
      "cell_type": "code",
      "metadata": {
        "id": "AYNRH-r-ZhgK",
        "colab_type": "code",
        "colab": {}
      },
      "source": [
        ""
      ],
      "execution_count": null,
      "outputs": []
    },
    {
      "cell_type": "code",
      "metadata": {
        "id": "F-vHvlsdAZ59",
        "colab_type": "code",
        "colab": {}
      },
      "source": [
        "# Install dependencies\n",
        "import quandl\n",
        "import numpy as np\n",
        "from sklearn.linear_model import LinearRegression\n",
        "from sklearn.svm import SVR\n",
        "from sklearn.model_selection import train_test_split\n"
      ],
      "execution_count": null,
      "outputs": []
    },
    {
      "cell_type": "code",
      "metadata": {
        "id": "ShYcbj_vAZ83",
        "colab_type": "code",
        "colab": {
          "base_uri": "https://localhost:8080/",
          "height": 390
        },
        "outputId": "ce1f4c76-eff1-47bf-f165-d3f22b0699ad"
      },
      "source": [
        "# Get Stock data\n",
        "df = quandl.get('WIKI/AAPL', authtoken='YCxpx7y7x4tXxBAcixZ8')\n",
        "df.tail(10)"
      ],
      "execution_count": null,
      "outputs": [
        {
          "output_type": "execute_result",
          "data": {
            "text/html": [
              "<div>\n",
              "<style scoped>\n",
              "    .dataframe tbody tr th:only-of-type {\n",
              "        vertical-align: middle;\n",
              "    }\n",
              "\n",
              "    .dataframe tbody tr th {\n",
              "        vertical-align: top;\n",
              "    }\n",
              "\n",
              "    .dataframe thead th {\n",
              "        text-align: right;\n",
              "    }\n",
              "</style>\n",
              "<table border=\"1\" class=\"dataframe\">\n",
              "  <thead>\n",
              "    <tr style=\"text-align: right;\">\n",
              "      <th></th>\n",
              "      <th>Open</th>\n",
              "      <th>High</th>\n",
              "      <th>Low</th>\n",
              "      <th>Close</th>\n",
              "      <th>Volume</th>\n",
              "      <th>Ex-Dividend</th>\n",
              "      <th>Split Ratio</th>\n",
              "      <th>Adj. Open</th>\n",
              "      <th>Adj. High</th>\n",
              "      <th>Adj. Low</th>\n",
              "      <th>Adj. Close</th>\n",
              "      <th>Adj. Volume</th>\n",
              "    </tr>\n",
              "    <tr>\n",
              "      <th>Date</th>\n",
              "      <th></th>\n",
              "      <th></th>\n",
              "      <th></th>\n",
              "      <th></th>\n",
              "      <th></th>\n",
              "      <th></th>\n",
              "      <th></th>\n",
              "      <th></th>\n",
              "      <th></th>\n",
              "      <th></th>\n",
              "      <th></th>\n",
              "      <th></th>\n",
              "    </tr>\n",
              "  </thead>\n",
              "  <tbody>\n",
              "    <tr>\n",
              "      <th>2018-03-14</th>\n",
              "      <td>180.32</td>\n",
              "      <td>180.52</td>\n",
              "      <td>177.8100</td>\n",
              "      <td>178.440</td>\n",
              "      <td>29075469.0</td>\n",
              "      <td>0.0</td>\n",
              "      <td>1.0</td>\n",
              "      <td>180.32</td>\n",
              "      <td>180.52</td>\n",
              "      <td>177.8100</td>\n",
              "      <td>178.440</td>\n",
              "      <td>29075469.0</td>\n",
              "    </tr>\n",
              "    <tr>\n",
              "      <th>2018-03-15</th>\n",
              "      <td>178.50</td>\n",
              "      <td>180.24</td>\n",
              "      <td>178.0701</td>\n",
              "      <td>178.650</td>\n",
              "      <td>22584565.0</td>\n",
              "      <td>0.0</td>\n",
              "      <td>1.0</td>\n",
              "      <td>178.50</td>\n",
              "      <td>180.24</td>\n",
              "      <td>178.0701</td>\n",
              "      <td>178.650</td>\n",
              "      <td>22584565.0</td>\n",
              "    </tr>\n",
              "    <tr>\n",
              "      <th>2018-03-16</th>\n",
              "      <td>178.65</td>\n",
              "      <td>179.12</td>\n",
              "      <td>177.6200</td>\n",
              "      <td>178.020</td>\n",
              "      <td>36836456.0</td>\n",
              "      <td>0.0</td>\n",
              "      <td>1.0</td>\n",
              "      <td>178.65</td>\n",
              "      <td>179.12</td>\n",
              "      <td>177.6200</td>\n",
              "      <td>178.020</td>\n",
              "      <td>36836456.0</td>\n",
              "    </tr>\n",
              "    <tr>\n",
              "      <th>2018-03-19</th>\n",
              "      <td>177.32</td>\n",
              "      <td>177.47</td>\n",
              "      <td>173.6600</td>\n",
              "      <td>175.300</td>\n",
              "      <td>32804695.0</td>\n",
              "      <td>0.0</td>\n",
              "      <td>1.0</td>\n",
              "      <td>177.32</td>\n",
              "      <td>177.47</td>\n",
              "      <td>173.6600</td>\n",
              "      <td>175.300</td>\n",
              "      <td>32804695.0</td>\n",
              "    </tr>\n",
              "    <tr>\n",
              "      <th>2018-03-20</th>\n",
              "      <td>175.24</td>\n",
              "      <td>176.80</td>\n",
              "      <td>174.9400</td>\n",
              "      <td>175.240</td>\n",
              "      <td>19314039.0</td>\n",
              "      <td>0.0</td>\n",
              "      <td>1.0</td>\n",
              "      <td>175.24</td>\n",
              "      <td>176.80</td>\n",
              "      <td>174.9400</td>\n",
              "      <td>175.240</td>\n",
              "      <td>19314039.0</td>\n",
              "    </tr>\n",
              "    <tr>\n",
              "      <th>2018-03-21</th>\n",
              "      <td>175.04</td>\n",
              "      <td>175.09</td>\n",
              "      <td>171.2600</td>\n",
              "      <td>171.270</td>\n",
              "      <td>35247358.0</td>\n",
              "      <td>0.0</td>\n",
              "      <td>1.0</td>\n",
              "      <td>175.04</td>\n",
              "      <td>175.09</td>\n",
              "      <td>171.2600</td>\n",
              "      <td>171.270</td>\n",
              "      <td>35247358.0</td>\n",
              "    </tr>\n",
              "    <tr>\n",
              "      <th>2018-03-22</th>\n",
              "      <td>170.00</td>\n",
              "      <td>172.68</td>\n",
              "      <td>168.6000</td>\n",
              "      <td>168.845</td>\n",
              "      <td>41051076.0</td>\n",
              "      <td>0.0</td>\n",
              "      <td>1.0</td>\n",
              "      <td>170.00</td>\n",
              "      <td>172.68</td>\n",
              "      <td>168.6000</td>\n",
              "      <td>168.845</td>\n",
              "      <td>41051076.0</td>\n",
              "    </tr>\n",
              "    <tr>\n",
              "      <th>2018-03-23</th>\n",
              "      <td>168.39</td>\n",
              "      <td>169.92</td>\n",
              "      <td>164.9400</td>\n",
              "      <td>164.940</td>\n",
              "      <td>40248954.0</td>\n",
              "      <td>0.0</td>\n",
              "      <td>1.0</td>\n",
              "      <td>168.39</td>\n",
              "      <td>169.92</td>\n",
              "      <td>164.9400</td>\n",
              "      <td>164.940</td>\n",
              "      <td>40248954.0</td>\n",
              "    </tr>\n",
              "    <tr>\n",
              "      <th>2018-03-26</th>\n",
              "      <td>168.07</td>\n",
              "      <td>173.10</td>\n",
              "      <td>166.4400</td>\n",
              "      <td>172.770</td>\n",
              "      <td>36272617.0</td>\n",
              "      <td>0.0</td>\n",
              "      <td>1.0</td>\n",
              "      <td>168.07</td>\n",
              "      <td>173.10</td>\n",
              "      <td>166.4400</td>\n",
              "      <td>172.770</td>\n",
              "      <td>36272617.0</td>\n",
              "    </tr>\n",
              "    <tr>\n",
              "      <th>2018-03-27</th>\n",
              "      <td>173.68</td>\n",
              "      <td>175.15</td>\n",
              "      <td>166.9200</td>\n",
              "      <td>168.340</td>\n",
              "      <td>38962839.0</td>\n",
              "      <td>0.0</td>\n",
              "      <td>1.0</td>\n",
              "      <td>173.68</td>\n",
              "      <td>175.15</td>\n",
              "      <td>166.9200</td>\n",
              "      <td>168.340</td>\n",
              "      <td>38962839.0</td>\n",
              "    </tr>\n",
              "  </tbody>\n",
              "</table>\n",
              "</div>"
            ],
            "text/plain": [
              "              Open    High       Low  ...  Adj. Low  Adj. Close  Adj. Volume\n",
              "Date                                  ...                                   \n",
              "2018-03-14  180.32  180.52  177.8100  ...  177.8100     178.440   29075469.0\n",
              "2018-03-15  178.50  180.24  178.0701  ...  178.0701     178.650   22584565.0\n",
              "2018-03-16  178.65  179.12  177.6200  ...  177.6200     178.020   36836456.0\n",
              "2018-03-19  177.32  177.47  173.6600  ...  173.6600     175.300   32804695.0\n",
              "2018-03-20  175.24  176.80  174.9400  ...  174.9400     175.240   19314039.0\n",
              "2018-03-21  175.04  175.09  171.2600  ...  171.2600     171.270   35247358.0\n",
              "2018-03-22  170.00  172.68  168.6000  ...  168.6000     168.845   41051076.0\n",
              "2018-03-23  168.39  169.92  164.9400  ...  164.9400     164.940   40248954.0\n",
              "2018-03-26  168.07  173.10  166.4400  ...  166.4400     172.770   36272617.0\n",
              "2018-03-27  173.68  175.15  166.9200  ...  166.9200     168.340   38962839.0\n",
              "\n",
              "[10 rows x 12 columns]"
            ]
          },
          "metadata": {
            "tags": []
          },
          "execution_count": 25
        }
      ]
    },
    {
      "cell_type": "code",
      "metadata": {
        "id": "PqfyM3VmAaAg",
        "colab_type": "code",
        "colab": {
          "base_uri": "https://localhost:8080/",
          "height": 136
        },
        "outputId": "bd88408a-8fbd-4065-8b78-b70e1674b21d"
      },
      "source": [
        "# get the Adjusted Close Price\n",
        "df = df[['Adj. Close']]\n",
        "print(df.head())"
      ],
      "execution_count": null,
      "outputs": [
        {
          "output_type": "stream",
          "text": [
            "            Adj. Close\n",
            "Date                  \n",
            "1980-12-12    0.422706\n",
            "1980-12-15    0.400652\n",
            "1980-12-16    0.371246\n",
            "1980-12-17    0.380362\n",
            "1980-12-18    0.391536\n"
          ],
          "name": "stdout"
        }
      ]
    },
    {
      "cell_type": "code",
      "metadata": {
        "id": "r_393x2VAaFP",
        "colab_type": "code",
        "colab": {
          "base_uri": "https://localhost:8080/",
          "height": 136
        },
        "outputId": "e98f9573-9d83-4d1a-d96a-51fbb7383b8e"
      },
      "source": [
        "# variable for predicting \"d\" days out into the future\n",
        "forecast_out = 1\n",
        "# Create another column (target) dependent variable, shifted in \"d\" units up\n",
        "df['Prediction'] = df[['Adj. Close']].shift(-1)\n",
        "print(df.tail())\n"
      ],
      "execution_count": null,
      "outputs": [
        {
          "output_type": "stream",
          "text": [
            "            Adj. Close  Prediction\n",
            "Date                              \n",
            "2018-03-21     171.270     168.845\n",
            "2018-03-22     168.845     164.940\n",
            "2018-03-23     164.940     172.770\n",
            "2018-03-26     172.770     168.340\n",
            "2018-03-27     168.340         NaN\n"
          ],
          "name": "stdout"
        }
      ]
    },
    {
      "cell_type": "code",
      "metadata": {
        "id": "ocY9KHt3AaI-",
        "colab_type": "code",
        "colab": {
          "base_uri": "https://localhost:8080/",
          "height": 136
        },
        "outputId": "58405a3c-342b-4db9-9c36-331ab7246ab6"
      },
      "source": [
        "# Create the independent data set x and convert the datarame into a nump array\n",
        "X = np.array(df.drop(['Prediction'],1))\n",
        "# remove the \"d\" rows\n",
        "X = X[:-forecast_out]\n",
        "print(X)"
      ],
      "execution_count": null,
      "outputs": [
        {
          "output_type": "stream",
          "text": [
            "[[  0.42270592]\n",
            " [  0.40065169]\n",
            " [  0.37124607]\n",
            " ...\n",
            " [168.845     ]\n",
            " [164.94      ]\n",
            " [172.77      ]]\n"
          ],
          "name": "stdout"
        }
      ]
    },
    {
      "cell_type": "code",
      "metadata": {
        "id": "BiVuQZxTAaOM",
        "colab_type": "code",
        "colab": {
          "base_uri": "https://localhost:8080/",
          "height": 51
        },
        "outputId": "cee67920-89bf-40c4-e7f5-bc53a9d2f055"
      },
      "source": [
        "# Create the dependent data y\n",
        "# convert the dataframe to a numpy array ( all of the values includin the NANs)\n",
        "y = np.array(df['Prediction'])\n",
        "# get all of the y values expect the last\"d\" rows\n",
        "y = y [:-forecast_out]\n",
        "print(y)"
      ],
      "execution_count": null,
      "outputs": [
        {
          "output_type": "stream",
          "text": [
            "[  0.40065169   0.37124607   0.38036181 ... 164.94       172.77\n",
            " 168.34      ]\n"
          ],
          "name": "stdout"
        }
      ]
    },
    {
      "cell_type": "code",
      "metadata": {
        "id": "Wdxq9BGgAaSG",
        "colab_type": "code",
        "colab": {}
      },
      "source": [
        "# Split the data into training and testing data (80:20)\n",
        "x_train, x_test, y_train, y_test = train_test_split(X,y, test_size=.02)"
      ],
      "execution_count": null,
      "outputs": []
    },
    {
      "cell_type": "code",
      "metadata": {
        "id": "EUQosVnCAa_j",
        "colab_type": "code",
        "colab": {
          "base_uri": "https://localhost:8080/",
          "height": 51
        },
        "outputId": "91bb2e1d-601f-49d7-cca6-63908fd5b0de"
      },
      "source": [
        "# Create and train the Support Vector Machine (Regressor) -  a subervised learning regression problem\n",
        "svr_rbf = SVR(kernel='rbf', C=1e3, gamma=0.1)\n",
        "svr_rbf.fit(x_train, y_train)"
      ],
      "execution_count": null,
      "outputs": [
        {
          "output_type": "execute_result",
          "data": {
            "text/plain": [
              "SVR(C=1000.0, cache_size=200, coef0=0.0, degree=3, epsilon=0.1, gamma=0.1,\n",
              "    kernel='rbf', max_iter=-1, shrinking=True, tol=0.001, verbose=False)"
            ]
          },
          "metadata": {
            "tags": []
          },
          "execution_count": 16
        }
      ]
    },
    {
      "cell_type": "code",
      "metadata": {
        "id": "kpo1QYcLAbCl",
        "colab_type": "code",
        "colab": {
          "base_uri": "https://localhost:8080/",
          "height": 34
        },
        "outputId": "38493dfc-e77a-4d8d-e623-cd2a35931234"
      },
      "source": [
        "#Testing Model: Score that returen s a coefficeient of determination R^2 of the prediction, note the best score is 1.0\n",
        "svm_confidence = svr_rbf.score(x_test, y_test)\n",
        "print('svm confidence: ', svm_confidence)\n",
        "\n"
      ],
      "execution_count": null,
      "outputs": [
        {
          "output_type": "stream",
          "text": [
            "svm confidence:  0.9995501803660342\n"
          ],
          "name": "stdout"
        }
      ]
    },
    {
      "cell_type": "code",
      "metadata": {
        "id": "L-PSJUbLAbGF",
        "colab_type": "code",
        "colab": {
          "base_uri": "https://localhost:8080/",
          "height": 34
        },
        "outputId": "da98bc52-4f87-4290-fd65-cfe89234aa72"
      },
      "source": [
        "# Create and train the Linear Regression Model\n",
        "lr = LinearRegression()\n",
        "# Train the model\n",
        "lr.fit(x_train, y_train)"
      ],
      "execution_count": null,
      "outputs": [
        {
          "output_type": "execute_result",
          "data": {
            "text/plain": [
              "LinearRegression(copy_X=True, fit_intercept=True, n_jobs=None, normalize=False)"
            ]
          },
          "metadata": {
            "tags": []
          },
          "execution_count": 18
        }
      ]
    },
    {
      "cell_type": "code",
      "metadata": {
        "id": "QCsNSDdgAbhg",
        "colab_type": "code",
        "colab": {
          "base_uri": "https://localhost:8080/",
          "height": 197
        },
        "outputId": "a5b7b82c-4a8b-4f76-f1d0-741b53e457c0"
      },
      "source": [
        "#Testing Model: Score that returen s a coefficeient of determination R^2 of the prediction, note the best score is 1.0\n",
        "lr_confidence = lr.score(x_test, y_test)\n",
        "print('lr confidence: ', lr_confidence)"
      ],
      "execution_count": null,
      "outputs": [
        {
          "output_type": "error",
          "ename": "NameError",
          "evalue": "ignored",
          "traceback": [
            "\u001b[0;31m---------------------------------------------------------------------------\u001b[0m",
            "\u001b[0;31mNameError\u001b[0m                                 Traceback (most recent call last)",
            "\u001b[0;32m<ipython-input-1-237fabf17442>\u001b[0m in \u001b[0;36m<module>\u001b[0;34m()\u001b[0m\n\u001b[1;32m      1\u001b[0m \u001b[0;31m#Testing Model: Score that returen s a coefficeient of determination R^2 of the prediction, note the best score is 1.0\u001b[0m\u001b[0;34m\u001b[0m\u001b[0;34m\u001b[0m\u001b[0;34m\u001b[0m\u001b[0m\n\u001b[0;32m----> 2\u001b[0;31m \u001b[0mlr_confidence\u001b[0m \u001b[0;34m=\u001b[0m \u001b[0mlr\u001b[0m\u001b[0;34m.\u001b[0m\u001b[0mscore\u001b[0m\u001b[0;34m(\u001b[0m\u001b[0mx_test\u001b[0m\u001b[0;34m,\u001b[0m \u001b[0my_test\u001b[0m\u001b[0;34m)\u001b[0m\u001b[0;34m\u001b[0m\u001b[0;34m\u001b[0m\u001b[0m\n\u001b[0m\u001b[1;32m      3\u001b[0m \u001b[0mprint\u001b[0m\u001b[0;34m(\u001b[0m\u001b[0;34m'lr confidence: '\u001b[0m\u001b[0;34m,\u001b[0m \u001b[0mlr_confidence\u001b[0m\u001b[0;34m)\u001b[0m\u001b[0;34m\u001b[0m\u001b[0;34m\u001b[0m\u001b[0m\n",
            "\u001b[0;31mNameError\u001b[0m: name 'lr' is not defined"
          ]
        }
      ]
    },
    {
      "cell_type": "code",
      "metadata": {
        "id": "FvTpdzUJAaMB",
        "colab_type": "code",
        "colab": {
          "base_uri": "https://localhost:8080/",
          "height": 34
        },
        "outputId": "0bd751e4-4ff3-4095-a1bd-e3ae6270664e"
      },
      "source": [
        "# Set x_forecast equal to the last 30 rows of the original data fro Adj. close column\n",
        "x_forecast = np.array(df.drop(['Prediction'],1))[-forecast_out:]\n",
        "print(x_forecast)"
      ],
      "execution_count": null,
      "outputs": [
        {
          "output_type": "stream",
          "text": [
            "[[168.34]]\n"
          ],
          "name": "stdout"
        }
      ]
    },
    {
      "cell_type": "code",
      "metadata": {
        "id": "VJ8ERI57dUnQ",
        "colab_type": "code",
        "colab": {
          "base_uri": "https://localhost:8080/",
          "height": 68
        },
        "outputId": "f8c83f9b-d82e-4ea4-b881-777b47147436"
      },
      "source": [
        "# Print linerar regression model predictions for \"d\" days\n",
        "lr_prediction = lr.predict(x_forecast)\n",
        "print(lr_prediction)\n",
        "print('')\n",
        "# Print support vector regressor model predictions for \"d\" days\n",
        "svm_prediction = svr_rbf.predict(x_forecast)\n",
        "print(svm_prediction)"
      ],
      "execution_count": null,
      "outputs": [
        {
          "output_type": "stream",
          "text": [
            "[168.44352382]\n",
            "\n",
            "[167.75224957]\n"
          ],
          "name": "stdout"
        }
      ]
    },
    {
      "cell_type": "code",
      "metadata": {
        "id": "Y8hr-ccndUv8",
        "colab_type": "code",
        "colab": {}
      },
      "source": [
        ""
      ],
      "execution_count": null,
      "outputs": []
    },
    {
      "cell_type": "code",
      "metadata": {
        "id": "dhZrNe7ZdU3P",
        "colab_type": "code",
        "colab": {}
      },
      "source": [
        ""
      ],
      "execution_count": null,
      "outputs": []
    },
    {
      "cell_type": "code",
      "metadata": {
        "id": "zyW9tyIUAaDo",
        "colab_type": "code",
        "colab": {}
      },
      "source": [
        ""
      ],
      "execution_count": null,
      "outputs": []
    }
  ]
}